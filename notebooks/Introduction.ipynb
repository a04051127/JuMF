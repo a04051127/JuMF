{
 "cells": [
  {
   "cell_type": "markdown",
   "id": "027c3593-f8fb-4502-a911-cd6dd52a53e8",
   "metadata": {},
   "source": [
    "# A multi-fluid-multi-species Julia code"
   ]
  },
  {
   "cell_type": "code",
   "execution_count": null,
   "id": "a23542cd-0e88-414d-b6a0-ac0e6315c4ff",
   "metadata": {},
   "outputs": [],
   "source": []
  },
  {
   "cell_type": "code",
   "execution_count": null,
   "id": "fd56dcf9-3871-44ec-a9f9-1bacf1079178",
   "metadata": {},
   "outputs": [],
   "source": []
  }
 ],
 "metadata": {
  "kernelspec": {
   "display_name": "Julia 1.11.2",
   "language": "julia",
   "name": "julia-1.11"
  },
  "language_info": {
   "file_extension": ".jl",
   "mimetype": "application/julia",
   "name": "julia",
   "version": "1.11.2"
  }
 },
 "nbformat": 4,
 "nbformat_minor": 5
}
